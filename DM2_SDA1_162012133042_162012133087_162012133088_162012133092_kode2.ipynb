{
  "cells": [
    {
      "cell_type": "markdown",
      "source": [
        "# **link datase**t : https://drive.google.com/drive/folders/1pHRiLalr38XQJBUr7kN1-Ydm0Pu8_h9O\n",
        "# **Run code melalui google drive** link di atas : folder model -> data_analysis.ipynb (untuk analisis data) | model_cnn.ipynb untuk pemodelan"
      ],
      "metadata": {
        "id": "zMzQ2s9xnZqt"
      }
    },
    {
      "cell_type": "code",
      "execution_count": 1,
      "metadata": {
        "id": "yg4dIf6NBdS4"
      },
      "outputs": [],
      "source": [
        "# Importing Libraries\n",
        "import os\n",
        "import glob\n",
        "import numpy as np\n",
        "import pandas as pd\n",
        "import seaborn as sns\n",
        "import matplotlib.pyplot as plt\n",
        "import librosa.display\n",
        "\n",
        "# audio plot \n",
        "from scipy.io import wavfile as wav\n",
        "import IPython.display as ipd\n",
        "\n",
        "from sklearn.preprocessing import LabelEncoder\n",
        "from tensorflow.keras.utils import to_categorical\n",
        "from sklearn.model_selection import train_test_split\n",
        "from tensorflow.keras.models import Sequential,Model\n",
        "from tensorflow.keras.callbacks import Callback,EarlyStopping\n",
        "from sklearn.metrics import confusion_matrix, classification_report\n",
        "from tensorflow.keras.layers import Conv1D, Activation, Flatten, Dense,GlobalAveragePooling1D, Dropout, MaxPooling1D\n",
        "from keras.callbacks import ReduceLROnPlateau\n",
        "\n"
      ]
    },
    {
      "cell_type": "code",
      "execution_count": 2,
      "metadata": {
        "colab": {
          "base_uri": "https://localhost:8080/"
        },
        "id": "0y-dnr-NU9Hs",
        "outputId": "ca83955e-bee3-4337-b4fb-8cd3e86e3813"
      },
      "outputs": [
        {
          "output_type": "stream",
          "name": "stdout",
          "text": [
            "Mounted at /content/drive\n"
          ]
        }
      ],
      "source": [
        "from google.colab import drive\n",
        "drive.mount('/content/drive')"
      ]
    },
    {
      "cell_type": "code",
      "execution_count": 3,
      "metadata": {
        "colab": {
          "base_uri": "https://localhost:8080/"
        },
        "id": "pIOz2OgoU_L_",
        "outputId": "012e46aa-2d4b-489e-e8ca-ab36ea30a110"
      },
      "outputs": [
        {
          "output_type": "stream",
          "name": "stdout",
          "text": [
            "['trimmed_manusia', 'manusia', 'trimmer code', 'trimmed_tts', 'Model (1)', 'class', 'Tambahan (Suara Manusia)', 'TTS data 20 + 20', 'Model']\n"
          ]
        }
      ],
      "source": [
        "path = \"/content/drive/MyDrive/Datmin UAS/\"\n",
        "print(os.listdir(path))"
      ]
    },
    {
      "cell_type": "code",
      "execution_count": 4,
      "metadata": {
        "id": "RMmwviXgVA58"
      },
      "outputs": [],
      "source": [
        "# Load Dataset\n",
        "path = \"/content/drive/MyDrive/Datmin UAS/\"\n",
        "path_manusia = \"/content/drive/MyDrive/Datmin UAS/trimmed_manusia/\"\n",
        "path_tts = \"/content/drive/MyDrive/Datmin UAS/trimmed_tts/\""
      ]
    },
    {
      "cell_type": "code",
      "execution_count": 5,
      "metadata": {
        "colab": {
          "base_uri": "https://localhost:8080/",
          "height": 206
        },
        "id": "RRrGY10_VA-7",
        "outputId": "e0b7e5fb-2b31-4684-a0bd-539dab35c266"
      },
      "outputs": [
        {
          "output_type": "execute_result",
          "data": {
            "text/plain": [
              "                                           File_Path           Labels\n",
              "0  /content/drive/MyDrive/Datmin UAS/trimmed_manu...  trimmed_manusia\n",
              "1  /content/drive/MyDrive/Datmin UAS/trimmed_manu...  trimmed_manusia\n",
              "2  /content/drive/MyDrive/Datmin UAS/trimmed_tts/...      trimmed_tts\n",
              "3  /content/drive/MyDrive/Datmin UAS/trimmed_tts/...      trimmed_tts\n",
              "4  /content/drive/MyDrive/Datmin UAS/trimmed_manu...  trimmed_manusia"
            ],
            "text/html": [
              "\n",
              "  <div id=\"df-23fac1f2-0a18-483e-923f-9eb3477796c2\">\n",
              "    <div class=\"colab-df-container\">\n",
              "      <div>\n",
              "<style scoped>\n",
              "    .dataframe tbody tr th:only-of-type {\n",
              "        vertical-align: middle;\n",
              "    }\n",
              "\n",
              "    .dataframe tbody tr th {\n",
              "        vertical-align: top;\n",
              "    }\n",
              "\n",
              "    .dataframe thead th {\n",
              "        text-align: right;\n",
              "    }\n",
              "</style>\n",
              "<table border=\"1\" class=\"dataframe\">\n",
              "  <thead>\n",
              "    <tr style=\"text-align: right;\">\n",
              "      <th></th>\n",
              "      <th>File_Path</th>\n",
              "      <th>Labels</th>\n",
              "    </tr>\n",
              "  </thead>\n",
              "  <tbody>\n",
              "    <tr>\n",
              "      <th>0</th>\n",
              "      <td>/content/drive/MyDrive/Datmin UAS/trimmed_manu...</td>\n",
              "      <td>trimmed_manusia</td>\n",
              "    </tr>\n",
              "    <tr>\n",
              "      <th>1</th>\n",
              "      <td>/content/drive/MyDrive/Datmin UAS/trimmed_manu...</td>\n",
              "      <td>trimmed_manusia</td>\n",
              "    </tr>\n",
              "    <tr>\n",
              "      <th>2</th>\n",
              "      <td>/content/drive/MyDrive/Datmin UAS/trimmed_tts/...</td>\n",
              "      <td>trimmed_tts</td>\n",
              "    </tr>\n",
              "    <tr>\n",
              "      <th>3</th>\n",
              "      <td>/content/drive/MyDrive/Datmin UAS/trimmed_tts/...</td>\n",
              "      <td>trimmed_tts</td>\n",
              "    </tr>\n",
              "    <tr>\n",
              "      <th>4</th>\n",
              "      <td>/content/drive/MyDrive/Datmin UAS/trimmed_manu...</td>\n",
              "      <td>trimmed_manusia</td>\n",
              "    </tr>\n",
              "  </tbody>\n",
              "</table>\n",
              "</div>\n",
              "      <button class=\"colab-df-convert\" onclick=\"convertToInteractive('df-23fac1f2-0a18-483e-923f-9eb3477796c2')\"\n",
              "              title=\"Convert this dataframe to an interactive table.\"\n",
              "              style=\"display:none;\">\n",
              "        \n",
              "  <svg xmlns=\"http://www.w3.org/2000/svg\" height=\"24px\"viewBox=\"0 0 24 24\"\n",
              "       width=\"24px\">\n",
              "    <path d=\"M0 0h24v24H0V0z\" fill=\"none\"/>\n",
              "    <path d=\"M18.56 5.44l.94 2.06.94-2.06 2.06-.94-2.06-.94-.94-2.06-.94 2.06-2.06.94zm-11 1L8.5 8.5l.94-2.06 2.06-.94-2.06-.94L8.5 2.5l-.94 2.06-2.06.94zm10 10l.94 2.06.94-2.06 2.06-.94-2.06-.94-.94-2.06-.94 2.06-2.06.94z\"/><path d=\"M17.41 7.96l-1.37-1.37c-.4-.4-.92-.59-1.43-.59-.52 0-1.04.2-1.43.59L10.3 9.45l-7.72 7.72c-.78.78-.78 2.05 0 2.83L4 21.41c.39.39.9.59 1.41.59.51 0 1.02-.2 1.41-.59l7.78-7.78 2.81-2.81c.8-.78.8-2.07 0-2.86zM5.41 20L4 18.59l7.72-7.72 1.47 1.35L5.41 20z\"/>\n",
              "  </svg>\n",
              "      </button>\n",
              "      \n",
              "  <style>\n",
              "    .colab-df-container {\n",
              "      display:flex;\n",
              "      flex-wrap:wrap;\n",
              "      gap: 12px;\n",
              "    }\n",
              "\n",
              "    .colab-df-convert {\n",
              "      background-color: #E8F0FE;\n",
              "      border: none;\n",
              "      border-radius: 50%;\n",
              "      cursor: pointer;\n",
              "      display: none;\n",
              "      fill: #1967D2;\n",
              "      height: 32px;\n",
              "      padding: 0 0 0 0;\n",
              "      width: 32px;\n",
              "    }\n",
              "\n",
              "    .colab-df-convert:hover {\n",
              "      background-color: #E2EBFA;\n",
              "      box-shadow: 0px 1px 2px rgba(60, 64, 67, 0.3), 0px 1px 3px 1px rgba(60, 64, 67, 0.15);\n",
              "      fill: #174EA6;\n",
              "    }\n",
              "\n",
              "    [theme=dark] .colab-df-convert {\n",
              "      background-color: #3B4455;\n",
              "      fill: #D2E3FC;\n",
              "    }\n",
              "\n",
              "    [theme=dark] .colab-df-convert:hover {\n",
              "      background-color: #434B5C;\n",
              "      box-shadow: 0px 1px 3px 1px rgba(0, 0, 0, 0.15);\n",
              "      filter: drop-shadow(0px 1px 2px rgba(0, 0, 0, 0.3));\n",
              "      fill: #FFFFFF;\n",
              "    }\n",
              "  </style>\n",
              "\n",
              "      <script>\n",
              "        const buttonEl =\n",
              "          document.querySelector('#df-23fac1f2-0a18-483e-923f-9eb3477796c2 button.colab-df-convert');\n",
              "        buttonEl.style.display =\n",
              "          google.colab.kernel.accessAllowed ? 'block' : 'none';\n",
              "\n",
              "        async function convertToInteractive(key) {\n",
              "          const element = document.querySelector('#df-23fac1f2-0a18-483e-923f-9eb3477796c2');\n",
              "          const dataTable =\n",
              "            await google.colab.kernel.invokeFunction('convertToInteractive',\n",
              "                                                     [key], {});\n",
              "          if (!dataTable) return;\n",
              "\n",
              "          const docLinkHtml = 'Like what you see? Visit the ' +\n",
              "            '<a target=\"_blank\" href=https://colab.research.google.com/notebooks/data_table.ipynb>data table notebook</a>'\n",
              "            + ' to learn more about interactive tables.';\n",
              "          element.innerHTML = '';\n",
              "          dataTable['output_type'] = 'display_data';\n",
              "          await google.colab.output.renderOutput(dataTable, element);\n",
              "          const docLink = document.createElement('div');\n",
              "          docLink.innerHTML = docLinkHtml;\n",
              "          element.appendChild(docLink);\n",
              "        }\n",
              "      </script>\n",
              "    </div>\n",
              "  </div>\n",
              "  "
            ]
          },
          "metadata": {},
          "execution_count": 5
        }
      ],
      "source": [
        "#Prepare Data\n",
        "data_train = list(glob.glob(path+'/**/*.wav'))\n",
        "labels = list(map(lambda x:os.path.split(os.path.split(x)[0])[1], data_train))\n",
        "file_path = pd.Series(data_train, name='File_Path').astype(str)\n",
        "labels = pd.Series(labels, name='Labels')\n",
        "data = pd.concat([file_path, labels], axis=1)\n",
        "data = data.sample(frac=1).reset_index(drop=True)\n",
        "data = data[data.Labels != 'class']\n",
        "data = data[data.Labels != 'Tambahan (Suara Manusia)']\n",
        "data = data[data.Labels != 'TTS data 20 + 20']\n",
        "\n",
        "\n",
        "data.head()\n",
        "\n"
      ]
    },
    {
      "cell_type": "code",
      "execution_count": 6,
      "metadata": {
        "colab": {
          "base_uri": "https://localhost:8080/",
          "height": 348
        },
        "id": "g_Djzg9dVFvI",
        "outputId": "76ad8369-f647-4edb-a2b4-409f9b00f838"
      },
      "outputs": [
        {
          "output_type": "display_data",
          "data": {
            "text/plain": [
              "<Figure size 432x288 with 1 Axes>"
            ],
            "image/png": "[encoded data removed]"
          },
          "metadata": {
            "needs_background": "light"
          }
        },
        {
          "output_type": "execute_result",
          "data": {
            "text/plain": [
              "trimmed_manusia    239\n",
              "trimmed_tts        239\n",
              "Name: Labels, dtype: int64"
            ]
          },
          "metadata": {},
          "execution_count": 6
        }
      ],
      "source": [
        "#EDA & Visualization\n",
        "sns.countplot(x='Labels', data=data)\n",
        "plt.title('Count Labels(Dog and Cat)')\n",
        "plt.show()\n",
        "data['Labels'].value_counts()"
      ]
    },
    {
      "cell_type": "code",
      "execution_count": 7,
      "metadata": {
        "id": "R9-l44WfVTPh"
      },
      "outputs": [],
      "source": [
        "def extract_features(data,sample_rate):\n",
        "    # ZCR\n",
        "    result = np.array([])\n",
        "    zcr = np.mean(librosa.feature.zero_crossing_rate(y=data).T, axis=0)\n",
        "    result=np.hstack((result, zcr)) # stacking horizontally\n",
        "\n",
        "    # Chroma_stft\n",
        "    stft = np.abs(librosa.stft(data))\n",
        "    chroma_stft = np.mean(librosa.feature.chroma_stft(S=stft, sr=sample_rate).T, axis=0)\n",
        "    result = np.hstack((result, chroma_stft)) # stacking horizontally\n",
        "\n",
        "    # MFCC\n",
        "    mfcc = np.mean(librosa.feature.mfcc(y=data, sr=sample_rate).T, axis=0)\n",
        "    result = np.hstack((result, mfcc)) # stacking horizontally\n",
        "\n",
        "    # Root Mean Square Value\n",
        "    rms = np.mean(librosa.feature.rms(y=data).T, axis=0)\n",
        "    result = np.hstack((result, rms)) # stacking horizontally\n",
        "\n",
        "    # MelSpectogram\n",
        "    mel = np.mean(librosa.feature.melspectrogram(y=data, sr=sample_rate).T, axis=0)\n",
        "    result = np.hstack((result, mel)) # stacking horizontally\n",
        "    \n",
        "    return result\n",
        "\n",
        "def get_features(path):\n",
        "    # duration and offset are used to take care of the no audio in start and the ending of each audio files as seen above.\n",
        "    data, sample_rate = librosa.load(path, duration=2.5, offset=0.6)\n",
        "    \n",
        "    # without augmentation\n",
        "    res1 = extract_features(data,sample_rate)\n",
        "    result = np.array(res1)\n",
        "    \n",
        "    # data with noise\n",
        "    noise_data = noise(data)\n",
        "    res2 = extract_features(noise_data,sample_rate)\n",
        "    result = np.vstack((result, res2)) # stacking vertically\n",
        "    \n",
        "    # data with stretching and pitching\n",
        "    new_data = stretch(data)\n",
        "    data_stretch_pitch = pitch(new_data, sample_rate)\n",
        "    res3 = extract_features(data_stretch_pitch,sample_rate)\n",
        "    result = np.vstack((result, res3)) # stacking vertically\n",
        "    \n",
        "    return result"
      ]
    },
    {
      "cell_type": "code",
      "execution_count": 8,
      "metadata": {
        "id": "BRi2I5nyVaKj"
      },
      "outputs": [],
      "source": [
        "def noise(data):\n",
        "    noise_amp = 0.035*np.random.uniform()*np.amax(data)\n",
        "    data = data + noise_amp*np.random.normal(size=data.shape[0])\n",
        "    return data\n",
        "\n",
        "def stretch(data, rate=0.8):\n",
        "    return librosa.effects.time_stretch(data, rate)\n",
        "\n",
        "def shift(data):\n",
        "    shift_range = int(np.random.uniform(low=-5, high = 5)*1000)\n",
        "    return np.roll(data, shift_range)\n",
        "\n",
        "def pitch(data, sampling_rate, pitch_factor=0.7):\n",
        "    return librosa.effects.pitch_shift(data, sampling_rate, pitch_factor)"
      ]
    },
    {
      "cell_type": "code",
      "execution_count": 9,
      "metadata": {
        "id": "TN0yRuD7Veyc"
      },
      "outputs": [],
      "source": [
        "X, Y = [], []\n",
        "for path, emotion in zip(data.File_Path, data.Labels):\n",
        "    feature = get_features(path)\n",
        "    for ele in feature:\n",
        "        X.append(ele)\n",
        "        # appending emotion 3 times as we have made 3 augmentation techniques on each audio file.\n",
        "        Y.append(emotion)"
      ]
    },
    {
      "cell_type": "code",
      "execution_count": 10,
      "metadata": {
        "colab": {
          "base_uri": "https://localhost:8080/",
          "height": 661
        },
        "id": "UCRoT4kzVhmW",
        "outputId": "08cd1011-b302-41cf-878d-eeb8bb99c1e4"
      },
      "outputs": [
        {
          "output_type": "execute_result",
          "data": {
            "text/plain": [
              "             0         1         2         3         4         5         6  \\\n",
              "0     0.072718  0.257500  0.233406  0.226188  0.280225  0.275721  0.352861   \n",
              "1     0.098402  0.290333  0.260447  0.282406  0.323051  0.334948  0.385765   \n",
              "2     0.085605  0.287791  0.257705  0.224446  0.284970  0.292955  0.338435   \n",
              "3     0.096847  0.416755  0.426715  0.497403  0.550624  0.478473  0.476163   \n",
              "4     0.279283  0.539433  0.553431  0.601811  0.686446  0.651020  0.604370   \n",
              "...        ...       ...       ...       ...       ...       ...       ...   \n",
              "1429  0.043086  0.436114  0.725285  0.339924  0.252276  0.331246  0.412514   \n",
              "1430  0.031641  0.313314  0.391307  0.200397  0.123008  0.160177  0.328964   \n",
              "1431  0.122767  0.415636  0.225559  0.188088  0.214373  0.234979  0.390589   \n",
              "1432  0.220866  0.455140  0.357468  0.352435  0.357070  0.409241  0.523165   \n",
              "1433  0.122551  0.381840  0.216380  0.175989  0.189739  0.226402  0.391346   \n",
              "\n",
              "             7         8         9  ...       153       154       155  \\\n",
              "0     0.338557  0.441913  0.680447  ...  0.000023  0.000034  0.000053   \n",
              "1     0.364106  0.541846  0.695168  ...  0.000959  0.001009  0.000981   \n",
              "2     0.335316  0.436603  0.717311  ...  0.000006  0.000005  0.000007   \n",
              "3     0.548842  0.706878  0.685144  ...  0.000007  0.000008  0.000010   \n",
              "4     0.611997  0.723992  0.717314  ...  0.005277  0.004882  0.005232   \n",
              "...        ...       ...       ...  ...       ...       ...       ...   \n",
              "1429  0.812879  0.397220  0.298305  ...  0.000491  0.000460  0.000464   \n",
              "1430  0.799602  0.341298  0.214603  ...  0.000064  0.000044  0.000032   \n",
              "1431  0.512587  0.260732  0.229040  ...  0.036401  0.038818  0.034482   \n",
              "1432  0.532301  0.352785  0.370351  ...  0.051884  0.055529  0.052115   \n",
              "1433  0.499145  0.238032  0.222614  ...  0.003013  0.006989  0.008007   \n",
              "\n",
              "           156       157       158       159           160           161  \\\n",
              "0     0.000081  0.000052  0.000039  0.000013  5.644286e-06  4.431140e-06   \n",
              "1     0.001018  0.000979  0.000969  0.000929  1.033226e-03  9.965028e-04   \n",
              "2     0.000008  0.000018  0.000017  0.000007  3.865219e-06  3.366940e-06   \n",
              "3     0.000022  0.000021  0.000021  0.000009  1.009505e-06  3.919322e-07   \n",
              "4     0.005337  0.005230  0.005176  0.005168  5.336315e-03  5.311970e-03   \n",
              "...        ...       ...       ...       ...           ...           ...   \n",
              "1429  0.000447  0.000444  0.000407  0.000387  3.619737e-04  3.652386e-04   \n",
              "1430  0.000031  0.000034  0.000014  0.000004  5.266823e-07  2.892785e-07   \n",
              "1431  0.020014  0.016535  0.011759  0.002328  1.060531e-04  1.051278e-05   \n",
              "1432  0.034541  0.032516  0.029097  0.019473  1.671800e-02  1.723248e-02   \n",
              "1433  0.009076  0.005162  0.002385  0.000521  5.803028e-05  7.009388e-06   \n",
              "\n",
              "               labels  \n",
              "0     trimmed_manusia  \n",
              "1     trimmed_manusia  \n",
              "2     trimmed_manusia  \n",
              "3     trimmed_manusia  \n",
              "4     trimmed_manusia  \n",
              "...               ...  \n",
              "1429  trimmed_manusia  \n",
              "1430  trimmed_manusia  \n",
              "1431  trimmed_manusia  \n",
              "1432  trimmed_manusia  \n",
              "1433  trimmed_manusia  \n",
              "\n",
              "[1434 rows x 163 columns]"
            ],
            "text/html": [
              "\n",
              "  <div id=\"df-b6c78431-7550-4ab8-894e-ff0361291b91\">\n",
              "    <div class=\"colab-df-container\">\n",
              "      <div>\n",
              "<style scoped>\n",
              "    .dataframe tbody tr th:only-of-type {\n",
              "        vertical-align: middle;\n",
              "    }\n",
              "\n",
              "    .dataframe tbody tr th {\n",
              "        vertical-align: top;\n",
              "    }\n",
              "\n",
              "    .dataframe thead th {\n",
              "        text-align: right;\n",
              "    }\n",
              "</style>\n",
              "<table border=\"1\" class=\"dataframe\">\n",
              "  <thead>\n",
              "    <tr style=\"text-align: right;\">\n",
              "      <th></th>\n",
              "      <th>0</th>\n",
              "      <th>1</th>\n",
              "      <th>2</th>\n",
              "      <th>3</th>\n",
              "      <th>4</th>\n",
              "      <th>5</th>\n",
              "      <th>6</th>\n",
              "      <th>7</th>\n",
              "      <th>8</th>\n",
              "      <th>9</th>\n",
              "      <th>...</th>\n",
              "      <th>153</th>\n",
              "      <th>154</th>\n",
              "      <th>155</th>\n",
              "      <th>156</th>\n",
              "      <th>157</th>\n",
              "      <th>158</th>\n",
              "      <th>159</th>\n",
              "      <th>160</th>\n",
              "      <th>161</th>\n",
              "      <th>labels</th>\n",
              "    </tr>\n",
              "  </thead>\n",
              "  <tbody>\n",
              "    <tr>\n",
              "      <th>0</th>\n",
              "      <td>0.072718</td>\n",
              "      <td>0.257500</td>\n",
              "      <td>0.233406</td>\n",
              "      <td>0.226188</td>\n",
              "      <td>0.280225</td>\n",
              "      <td>0.275721</td>\n",
              "      <td>0.352861</td>\n",
              "      <td>0.338557</td>\n",
              "      <td>0.441913</td>\n",
              "      <td>0.680447</td>\n",
              "      <td>...</td>\n",
              "      <td>0.000023</td>\n",
              "      <td>0.000034</td>\n",
              "      <td>0.000053</td>\n",
              "      <td>0.000081</td>\n",
              "      <td>0.000052</td>\n",
              "      <td>0.000039</td>\n",
              "      <td>0.000013</td>\n",
              "      <td>5.644286e-06</td>\n",
              "      <td>4.431140e-06</td>\n",
              "      <td>trimmed_manusia</td>\n",
              "    </tr>\n",
              "    <tr>\n",
              "      <th>1</th>\n",
              "      <td>0.098402</td>\n",
              "      <td>0.290333</td>\n",
              "      <td>0.260447</td>\n",
              "      <td>0.282406</td>\n",
              "      <td>0.323051</td>\n",
              "      <td>0.334948</td>\n",
              "      <td>0.385765</td>\n",
              "      <td>0.364106</td>\n",
              "      <td>0.541846</td>\n",
              "      <td>0.695168</td>\n",
              "      <td>...</td>\n",
              "      <td>0.000959</td>\n",
              "      <td>0.001009</td>\n",
              "      <td>0.000981</td>\n",
              "      <td>0.001018</td>\n",
              "      <td>0.000979</td>\n",
              "      <td>0.000969</td>\n",
              "      <td>0.000929</td>\n",
              "      <td>1.033226e-03</td>\n",
              "      <td>9.965028e-04</td>\n",
              "      <td>trimmed_manusia</td>\n",
              "    </tr>\n",
              "    <tr>\n",
              "      <th>2</th>\n",
              "      <td>0.085605</td>\n",
              "      <td>0.287791</td>\n",
              "      <td>0.257705</td>\n",
              "      <td>0.224446</td>\n",
              "      <td>0.284970</td>\n",
              "      <td>0.292955</td>\n",
              "      <td>0.338435</td>\n",
              "      <td>0.335316</td>\n",
              "      <td>0.436603</td>\n",
              "      <td>0.717311</td>\n",
              "      <td>...</td>\n",
              "      <td>0.000006</td>\n",
              "      <td>0.000005</td>\n",
              "      <td>0.000007</td>\n",
              "      <td>0.000008</td>\n",
              "      <td>0.000018</td>\n",
              "      <td>0.000017</td>\n",
              "      <td>0.000007</td>\n",
              "      <td>3.865219e-06</td>\n",
              "      <td>3.366940e-06</td>\n",
              "      <td>trimmed_manusia</td>\n",
              "    </tr>\n",
              "    <tr>\n",
              "      <th>3</th>\n",
              "      <td>0.096847</td>\n",
              "      <td>0.416755</td>\n",
              "      <td>0.426715</td>\n",
              "      <td>0.497403</td>\n",
              "      <td>0.550624</td>\n",
              "      <td>0.478473</td>\n",
              "      <td>0.476163</td>\n",
              "      <td>0.548842</td>\n",
              "      <td>0.706878</td>\n",
              "      <td>0.685144</td>\n",
              "      <td>...</td>\n",
              "      <td>0.000007</td>\n",
              "      <td>0.000008</td>\n",
              "      <td>0.000010</td>\n",
              "      <td>0.000022</td>\n",
              "      <td>0.000021</td>\n",
              "      <td>0.000021</td>\n",
              "      <td>0.000009</td>\n",
              "      <td>1.009505e-06</td>\n",
              "      <td>3.919322e-07</td>\n",
              "      <td>trimmed_manusia</td>\n",
              "    </tr>\n",
              "    <tr>\n",
              "      <th>4</th>\n",
              "      <td>0.279283</td>\n",
              "      <td>0.539433</td>\n",
              "      <td>0.553431</td>\n",
              "      <td>0.601811</td>\n",
              "      <td>0.686446</td>\n",
              "      <td>0.651020</td>\n",
              "      <td>0.604370</td>\n",
              "      <td>0.611997</td>\n",
              "      <td>0.723992</td>\n",
              "      <td>0.717314</td>\n",
              "      <td>...</td>\n",
              "      <td>0.005277</td>\n",
              "      <td>0.004882</td>\n",
              "      <td>0.005232</td>\n",
              "      <td>0.005337</td>\n",
              "      <td>0.005230</td>\n",
              "      <td>0.005176</td>\n",
              "      <td>0.005168</td>\n",
              "      <td>5.336315e-03</td>\n",
              "      <td>5.311970e-03</td>\n",
              "      <td>trimmed_manusia</td>\n",
              "    </tr>\n",
              "    <tr>\n",
              "      <th>...</th>\n",
              "      <td>...</td>\n",
              "      <td>...</td>\n",
              "      <td>...</td>\n",
              "      <td>...</td>\n",
              "      <td>...</td>\n",
              "      <td>...</td>\n",
              "      <td>...</td>\n",
              "      <td>...</td>\n",
              "      <td>...</td>\n",
              "      <td>...</td>\n",
              "      <td>...</td>\n",
              "      <td>...</td>\n",
              "      <td>...</td>\n",
              "      <td>...</td>\n",
              "      <td>...</td>\n",
              "      <td>...</td>\n",
              "      <td>...</td>\n",
              "      <td>...</td>\n",
              "      <td>...</td>\n",
              "      <td>...</td>\n",
              "      <td>...</td>\n",
              "    </tr>\n",
              "    <tr>\n",
              "      <th>1429</th>\n",
              "      <td>0.043086</td>\n",
              "      <td>0.436114</td>\n",
              "      <td>0.725285</td>\n",
              "      <td>0.339924</td>\n",
              "      <td>0.252276</td>\n",
              "      <td>0.331246</td>\n",
              "      <td>0.412514</td>\n",
              "      <td>0.812879</td>\n",
              "      <td>0.397220</td>\n",
              "      <td>0.298305</td>\n",
              "      <td>...</td>\n",
              "      <td>0.000491</td>\n",
              "      <td>0.000460</td>\n",
              "      <td>0.000464</td>\n",
              "      <td>0.000447</td>\n",
              "      <td>0.000444</td>\n",
              "      <td>0.000407</td>\n",
              "      <td>0.000387</td>\n",
              "      <td>3.619737e-04</td>\n",
              "      <td>3.652386e-04</td>\n",
              "      <td>trimmed_manusia</td>\n",
              "    </tr>\n",
              "    <tr>\n",
              "      <th>1430</th>\n",
              "      <td>0.031641</td>\n",
              "      <td>0.313314</td>\n",
              "      <td>0.391307</td>\n",
              "      <td>0.200397</td>\n",
              "      <td>0.123008</td>\n",
              "      <td>0.160177</td>\n",
              "      <td>0.328964</td>\n",
              "      <td>0.799602</td>\n",
              "      <td>0.341298</td>\n",
              "      <td>0.214603</td>\n",
              "      <td>...</td>\n",
              "      <td>0.000064</td>\n",
              "      <td>0.000044</td>\n",
              "      <td>0.000032</td>\n",
              "      <td>0.000031</td>\n",
              "      <td>0.000034</td>\n",
              "      <td>0.000014</td>\n",
              "      <td>0.000004</td>\n",
              "      <td>5.266823e-07</td>\n",
              "      <td>2.892785e-07</td>\n",
              "      <td>trimmed_manusia</td>\n",
              "    </tr>\n",
              "    <tr>\n",
              "      <th>1431</th>\n",
              "      <td>0.122767</td>\n",
              "      <td>0.415636</td>\n",
              "      <td>0.225559</td>\n",
              "      <td>0.188088</td>\n",
              "      <td>0.214373</td>\n",
              "      <td>0.234979</td>\n",
              "      <td>0.390589</td>\n",
              "      <td>0.512587</td>\n",
              "      <td>0.260732</td>\n",
              "      <td>0.229040</td>\n",
              "      <td>...</td>\n",
              "      <td>0.036401</td>\n",
              "      <td>0.038818</td>\n",
              "      <td>0.034482</td>\n",
              "      <td>0.020014</td>\n",
              "      <td>0.016535</td>\n",
              "      <td>0.011759</td>\n",
              "      <td>0.002328</td>\n",
              "      <td>1.060531e-04</td>\n",
              "      <td>1.051278e-05</td>\n",
              "      <td>trimmed_manusia</td>\n",
              "    </tr>\n",
              "    <tr>\n",
              "      <th>1432</th>\n",
              "      <td>0.220866</td>\n",
              "      <td>0.455140</td>\n",
              "      <td>0.357468</td>\n",
              "      <td>0.352435</td>\n",
              "      <td>0.357070</td>\n",
              "      <td>0.409241</td>\n",
              "      <td>0.523165</td>\n",
              "      <td>0.532301</td>\n",
              "      <td>0.352785</td>\n",
              "      <td>0.370351</td>\n",
              "      <td>...</td>\n",
              "      <td>0.051884</td>\n",
              "      <td>0.055529</td>\n",
              "      <td>0.052115</td>\n",
              "      <td>0.034541</td>\n",
              "      <td>0.032516</td>\n",
              "      <td>0.029097</td>\n",
              "      <td>0.019473</td>\n",
              "      <td>1.671800e-02</td>\n",
              "      <td>1.723248e-02</td>\n",
              "      <td>trimmed_manusia</td>\n",
              "    </tr>\n",
              "    <tr>\n",
              "      <th>1433</th>\n",
              "      <td>0.122551</td>\n",
              "      <td>0.381840</td>\n",
              "      <td>0.216380</td>\n",
              "      <td>0.175989</td>\n",
              "      <td>0.189739</td>\n",
              "      <td>0.226402</td>\n",
              "      <td>0.391346</td>\n",
              "      <td>0.499145</td>\n",
              "      <td>0.238032</td>\n",
              "      <td>0.222614</td>\n",
              "      <td>...</td>\n",
              "      <td>0.003013</td>\n",
              "      <td>0.006989</td>\n",
              "      <td>0.008007</td>\n",
              "      <td>0.009076</td>\n",
              "      <td>0.005162</td>\n",
              "      <td>0.002385</td>\n",
              "      <td>0.000521</td>\n",
              "      <td>5.803028e-05</td>\n",
              "      <td>7.009388e-06</td>\n",
              "      <td>trimmed_manusia</td>\n",
              "    </tr>\n",
              "  </tbody>\n",
              "</table>\n",
              "<p>1434 rows × 163 columns</p>\n",
              "</div>\n",
              "      <button class=\"colab-df-convert\" onclick=\"convertToInteractive('df-b6c78431-7550-4ab8-894e-ff0361291b91')\"\n",
              "              title=\"Convert this dataframe to an interactive table.\"\n",
              "              style=\"display:none;\">\n",
              "        \n",
              "  <svg xmlns=\"http://www.w3.org/2000/svg\" height=\"24px\"viewBox=\"0 0 24 24\"\n",
              "       width=\"24px\">\n",
              "    <path d=\"M0 0h24v24H0V0z\" fill=\"none\"/>\n",
              "    <path d=\"M18.56 5.44l.94 2.06.94-2.06 2.06-.94-2.06-.94-.94-2.06-.94 2.06-2.06.94zm-11 1L8.5 8.5l.94-2.06 2.06-.94-2.06-.94L8.5 2.5l-.94 2.06-2.06.94zm10 10l.94 2.06.94-2.06 2.06-.94-2.06-.94-.94-2.06-.94 2.06-2.06.94z\"/><path d=\"M17.41 7.96l-1.37-1.37c-.4-.4-.92-.59-1.43-.59-.52 0-1.04.2-1.43.59L10.3 9.45l-7.72 7.72c-.78.78-.78 2.05 0 2.83L4 21.41c.39.39.9.59 1.41.59.51 0 1.02-.2 1.41-.59l7.78-7.78 2.81-2.81c.8-.78.8-2.07 0-2.86zM5.41 20L4 18.59l7.72-7.72 1.47 1.35L5.41 20z\"/>\n",
              "  </svg>\n",
              "      </button>\n",
              "      \n",
              "  <style>\n",
              "    .colab-df-container {\n",
              "      display:flex;\n",
              "      flex-wrap:wrap;\n",
              "      gap: 12px;\n",
              "    }\n",
              "\n",
              "    .colab-df-convert {\n",
              "      background-color: #E8F0FE;\n",
              "      border: none;\n",
              "      border-radius: 50%;\n",
              "      cursor: pointer;\n",
              "      display: none;\n",
              "      fill: #1967D2;\n",
              "      height: 32px;\n",
              "      padding: 0 0 0 0;\n",
              "      width: 32px;\n",
              "    }\n",
              "\n",
              "    .colab-df-convert:hover {\n",
              "      background-color: #E2EBFA;\n",
              "      box-shadow: 0px 1px 2px rgba(60, 64, 67, 0.3), 0px 1px 3px 1px rgba(60, 64, 67, 0.15);\n",
              "      fill: #174EA6;\n",
              "    }\n",
              "\n",
              "    [theme=dark] .colab-df-convert {\n",
              "      background-color: #3B4455;\n",
              "      fill: #D2E3FC;\n",
              "    }\n",
              "\n",
              "    [theme=dark] .colab-df-convert:hover {\n",
              "      background-color: #434B5C;\n",
              "      box-shadow: 0px 1px 3px 1px rgba(0, 0, 0, 0.15);\n",
              "      filter: drop-shadow(0px 1px 2px rgba(0, 0, 0, 0.3));\n",
              "      fill: #FFFFFF;\n",
              "    }\n",
              "  </style>\n",
              "\n",
              "      <script>\n",
              "        const buttonEl =\n",
              "          document.querySelector('#df-b6c78431-7550-4ab8-894e-ff0361291b91 button.colab-df-convert');\n",
              "        buttonEl.style.display =\n",
              "          google.colab.kernel.accessAllowed ? 'block' : 'none';\n",
              "\n",
              "        async function convertToInteractive(key) {\n",
              "          const element = document.querySelector('#df-b6c78431-7550-4ab8-894e-ff0361291b91');\n",
              "          const dataTable =\n",
              "            await google.colab.kernel.invokeFunction('convertToInteractive',\n",
              "                                                     [key], {});\n",
              "          if (!dataTable) return;\n",
              "\n",
              "          const docLinkHtml = 'Like what you see? Visit the ' +\n",
              "            '<a target=\"_blank\" href=https://colab.research.google.com/notebooks/data_table.ipynb>data table notebook</a>'\n",
              "            + ' to learn more about interactive tables.';\n",
              "          element.innerHTML = '';\n",
              "          dataTable['output_type'] = 'display_data';\n",
              "          await google.colab.output.renderOutput(dataTable, element);\n",
              "          const docLink = document.createElement('div');\n",
              "          docLink.innerHTML = docLinkHtml;\n",
              "          element.appendChild(docLink);\n",
              "        }\n",
              "      </script>\n",
              "    </div>\n",
              "  </div>\n",
              "  "
            ]
          },
          "metadata": {},
          "execution_count": 10
        }
      ],
      "source": [
        "Features = pd.DataFrame(X)\n",
        "Features['labels'] = Y\n",
        "Features.to_csv('features.csv', index=False)\n",
        "Features"
      ]
    },
    {
      "cell_type": "code",
      "execution_count": 11,
      "metadata": {
        "id": "M8mHm_ayVlEE"
      },
      "outputs": [],
      "source": [
        "X = Features.iloc[: ,:-1].values\n",
        "Y = Features['labels'].values"
      ]
    },
    {
      "cell_type": "code",
      "execution_count": 12,
      "metadata": {
        "id": "Qedo4AdjVqBm"
      },
      "outputs": [],
      "source": [
        "# As this is a multiclass classification problem onehotencoding our Y.\n",
        "from sklearn.preprocessing import StandardScaler, OneHotEncoder\n",
        "\n",
        "encoder = OneHotEncoder()\n",
        "Y = encoder.fit_transform(np.array(Y).reshape(-1,1)).toarray()"
      ]
    },
    {
      "cell_type": "code",
      "source": [
        "Y"
      ],
      "metadata": {
        "colab": {
          "base_uri": "https://localhost:8080/"
        },
        "id": "g_7QAGWstEMe",
        "outputId": "48fcd42e-00bc-4088-b2f3-a77bb2ffdea9"
      },
      "execution_count": 13,
      "outputs": [
        {
          "output_type": "execute_result",
          "data": {
            "text/plain": [
              "array([[1., 0.],\n",
              "       [1., 0.],\n",
              "       [1., 0.],\n",
              "       ...,\n",
              "       [1., 0.],\n",
              "       [1., 0.],\n",
              "       [1., 0.]])"
            ]
          },
          "metadata": {},
          "execution_count": 13
        }
      ]
    },
    {
      "cell_type": "code",
      "execution_count": 14,
      "metadata": {
        "id": "jddBS_9NVrnT",
        "colab": {
          "base_uri": "https://localhost:8080/"
        },
        "outputId": "60b86177-d3d2-4940-9e43-450e9105b347"
      },
      "outputs": [
        {
          "output_type": "execute_result",
          "data": {
            "text/plain": [
              "((1075, 162), (1075, 2), (359, 162), (359, 2))"
            ]
          },
          "metadata": {},
          "execution_count": 14
        }
      ],
      "source": [
        "# splitting data\n",
        "x_train, x_test, y_train, y_test = train_test_split(X, Y, random_state=0, shuffle=True)\n",
        "x_train.shape, y_train.shape, x_test.shape, y_test.shape"
      ]
    },
    {
      "cell_type": "code",
      "execution_count": 15,
      "metadata": {
        "id": "C1WuF39UVukU",
        "colab": {
          "base_uri": "https://localhost:8080/"
        },
        "outputId": "9d36b934-2091-42ba-c03a-2163af23a7f8"
      },
      "outputs": [
        {
          "output_type": "execute_result",
          "data": {
            "text/plain": [
              "((1075, 162, 1), (1075, 2), (359, 162, 1), (359, 2))"
            ]
          },
          "metadata": {},
          "execution_count": 15
        }
      ],
      "source": [
        "# making our data compatible to model.\n",
        "x_train = np.expand_dims(x_train, axis=2)\n",
        "x_test = np.expand_dims(x_test, axis=2)\n",
        "x_train.shape, y_train.shape, x_test.shape, y_test.shape"
      ]
    },
    {
      "cell_type": "code",
      "execution_count": 16,
      "metadata": {
        "id": "FzkzD4u9Vwjl",
        "colab": {
          "base_uri": "https://localhost:8080/"
        },
        "outputId": "d6372bff-f71b-47f7-dcf7-60cb0d3d72ae"
      },
      "outputs": [
        {
          "output_type": "stream",
          "name": "stdout",
          "text": [
            "Model: \"sequential\"\n",
            "_________________________________________________________________\n",
            " Layer (type)                Output Shape              Param #   \n",
            "=================================================================\n",
            " conv1d (Conv1D)             (None, 162, 256)          1536      \n",
            "                                                                 \n",
            " max_pooling1d (MaxPooling1D  (None, 81, 256)          0         \n",
            " )                                                               \n",
            "                                                                 \n",
            " conv1d_1 (Conv1D)           (None, 81, 256)           327936    \n",
            "                                                                 \n",
            " max_pooling1d_1 (MaxPooling  (None, 41, 256)          0         \n",
            " 1D)                                                             \n",
            "                                                                 \n",
            " conv1d_2 (Conv1D)           (None, 41, 128)           163968    \n",
            "                                                                 \n",
            " max_pooling1d_2 (MaxPooling  (None, 21, 128)          0         \n",
            " 1D)                                                             \n",
            "                                                                 \n",
            " dropout (Dropout)           (None, 21, 128)           0         \n",
            "                                                                 \n",
            " conv1d_3 (Conv1D)           (None, 21, 64)            41024     \n",
            "                                                                 \n",
            " max_pooling1d_3 (MaxPooling  (None, 11, 64)           0         \n",
            " 1D)                                                             \n",
            "                                                                 \n",
            " flatten (Flatten)           (None, 704)               0         \n",
            "                                                                 \n",
            " dense (Dense)               (None, 32)                22560     \n",
            "                                                                 \n",
            " dropout_1 (Dropout)         (None, 32)                0         \n",
            "                                                                 \n",
            " dense_1 (Dense)             (None, 2)                 66        \n",
            "                                                                 \n",
            "=================================================================\n",
            "Total params: 557,090\n",
            "Trainable params: 557,090\n",
            "Non-trainable params: 0\n",
            "_________________________________________________________________\n"
          ]
        }
      ],
      "source": [
        "model=Sequential()\n",
        "model.add(Conv1D(256, kernel_size=5, strides=1, padding='same', activation='relu', input_shape=(x_train.shape[1], 1)))\n",
        "model.add(MaxPooling1D(pool_size=5, strides = 2, padding = 'same'))\n",
        "\n",
        "model.add(Conv1D(256, kernel_size=5, strides=1, padding='same', activation='relu'))\n",
        "model.add(MaxPooling1D(pool_size=5, strides = 2, padding = 'same'))\n",
        "\n",
        "model.add(Conv1D(128, kernel_size=5, strides=1, padding='same', activation='relu'))\n",
        "model.add(MaxPooling1D(pool_size=5, strides = 2, padding = 'same'))\n",
        "model.add(Dropout(0.2))\n",
        "\n",
        "model.add(Conv1D(64, kernel_size=5, strides=1, padding='same', activation='relu'))\n",
        "model.add(MaxPooling1D(pool_size=5, strides = 2, padding = 'same'))\n",
        "\n",
        "model.add(Flatten())\n",
        "model.add(Dense(units=32, activation='relu'))\n",
        "model.add(Dropout(0.3))\n",
        "\n",
        "model.add(Dense(units=2, activation='softmax'))\n",
        "model.compile(optimizer = 'adam' , loss = 'binary_crossentropy' , metrics = ['accuracy'])\n",
        "\n",
        "model.summary()"
      ]
    },
    {
      "cell_type": "code",
      "execution_count": 17,
      "metadata": {
        "id": "9WIIK1h_F4bq",
        "colab": {
          "base_uri": "https://localhost:8080/"
        },
        "outputId": "98fa64bd-3460-440b-9b3f-39bf2290c439"
      },
      "outputs": [
        {
          "output_type": "stream",
          "name": "stdout",
          "text": [
            "Epoch 1/50\n",
            "17/17 [==============================] - 9s 438ms/step - loss: 1.8352 - accuracy: 0.5470 - val_loss: 0.6448 - val_accuracy: 0.7409 - lr: 0.0010\n",
            "Epoch 2/50\n",
            "17/17 [==============================] - 7s 416ms/step - loss: 0.6176 - accuracy: 0.6260 - val_loss: 0.5343 - val_accuracy: 0.7744 - lr: 0.0010\n",
            "Epoch 3/50\n",
            "17/17 [==============================] - 7s 419ms/step - loss: 0.5524 - accuracy: 0.6791 - val_loss: 0.4630 - val_accuracy: 0.7799 - lr: 0.0010\n",
            "Epoch 4/50\n",
            "17/17 [==============================] - 7s 418ms/step - loss: 0.5089 - accuracy: 0.7470 - val_loss: 0.3806 - val_accuracy: 0.8969 - lr: 0.0010\n",
            "Epoch 5/50\n",
            "17/17 [==============================] - 7s 414ms/step - loss: 0.4754 - accuracy: 0.7581 - val_loss: 0.3931 - val_accuracy: 0.8022 - lr: 0.0010\n",
            "Epoch 6/50\n",
            "17/17 [==============================] - 7s 417ms/step - loss: 0.4268 - accuracy: 0.7572 - val_loss: 0.3238 - val_accuracy: 0.8496 - lr: 0.0010\n",
            "Epoch 7/50\n",
            "17/17 [==============================] - 7s 416ms/step - loss: 0.3784 - accuracy: 0.7870 - val_loss: 0.2439 - val_accuracy: 0.8942 - lr: 0.0010\n",
            "Epoch 8/50\n",
            "17/17 [==============================] - 7s 414ms/step - loss: 0.3352 - accuracy: 0.8270 - val_loss: 0.2049 - val_accuracy: 0.9136 - lr: 0.0010\n",
            "Epoch 9/50\n",
            "17/17 [==============================] - 7s 419ms/step - loss: 0.3012 - accuracy: 0.8530 - val_loss: 0.1581 - val_accuracy: 0.9443 - lr: 0.0010\n",
            "Epoch 10/50\n",
            "17/17 [==============================] - 7s 415ms/step - loss: 0.2368 - accuracy: 0.8967 - val_loss: 0.1821 - val_accuracy: 0.9192 - lr: 0.0010\n",
            "Epoch 11/50\n",
            "17/17 [==============================] - 9s 534ms/step - loss: 0.2253 - accuracy: 0.9172 - val_loss: 0.1161 - val_accuracy: 0.9554 - lr: 0.0010\n",
            "Epoch 12/50\n",
            "17/17 [==============================] - 7s 416ms/step - loss: 0.2093 - accuracy: 0.9293 - val_loss: 0.1018 - val_accuracy: 0.9777 - lr: 0.0010\n",
            "Epoch 13/50\n",
            "17/17 [==============================] - 7s 417ms/step - loss: 0.1766 - accuracy: 0.9414 - val_loss: 0.0745 - val_accuracy: 0.9694 - lr: 0.0010\n",
            "Epoch 14/50\n",
            "17/17 [==============================] - 7s 414ms/step - loss: 0.1772 - accuracy: 0.9498 - val_loss: 0.1227 - val_accuracy: 0.9526 - lr: 0.0010\n",
            "Epoch 15/50\n",
            "17/17 [==============================] - 7s 417ms/step - loss: 0.1691 - accuracy: 0.9498 - val_loss: 0.0702 - val_accuracy: 0.9666 - lr: 0.0010\n",
            "Epoch 16/50\n",
            "17/17 [==============================] - 7s 415ms/step - loss: 0.1249 - accuracy: 0.9591 - val_loss: 0.1316 - val_accuracy: 0.9721 - lr: 0.0010\n",
            "Epoch 17/50\n",
            "17/17 [==============================] - 7s 413ms/step - loss: 0.1003 - accuracy: 0.9674 - val_loss: 0.1098 - val_accuracy: 0.9526 - lr: 0.0010\n",
            "Epoch 18/50\n",
            "17/17 [==============================] - 7s 412ms/step - loss: 0.1051 - accuracy: 0.9656 - val_loss: 0.1435 - val_accuracy: 0.9777 - lr: 0.0010\n",
            "Epoch 19/50\n",
            "17/17 [==============================] - 7s 416ms/step - loss: 0.1339 - accuracy: 0.9488 - val_loss: 0.0534 - val_accuracy: 0.9833 - lr: 0.0010\n",
            "Epoch 20/50\n",
            "17/17 [==============================] - 7s 419ms/step - loss: 0.0886 - accuracy: 0.9637 - val_loss: 0.0418 - val_accuracy: 0.9861 - lr: 4.0000e-04\n",
            "Epoch 21/50\n",
            "17/17 [==============================] - 7s 412ms/step - loss: 0.0719 - accuracy: 0.9786 - val_loss: 0.0496 - val_accuracy: 0.9749 - lr: 4.0000e-04\n",
            "Epoch 22/50\n",
            "17/17 [==============================] - 7s 411ms/step - loss: 0.0604 - accuracy: 0.9767 - val_loss: 0.0526 - val_accuracy: 0.9749 - lr: 4.0000e-04\n",
            "Epoch 23/50\n",
            "17/17 [==============================] - 7s 415ms/step - loss: 0.0623 - accuracy: 0.9860 - val_loss: 0.0473 - val_accuracy: 0.9889 - lr: 4.0000e-04\n",
            "Epoch 24/50\n",
            "17/17 [==============================] - 7s 414ms/step - loss: 0.0568 - accuracy: 0.9823 - val_loss: 0.0420 - val_accuracy: 0.9749 - lr: 4.0000e-04\n",
            "Epoch 25/50\n",
            "17/17 [==============================] - 7s 416ms/step - loss: 0.0463 - accuracy: 0.9898 - val_loss: 0.0533 - val_accuracy: 0.9777 - lr: 4.0000e-04\n",
            "Epoch 26/50\n",
            "17/17 [==============================] - 7s 413ms/step - loss: 0.0491 - accuracy: 0.9898 - val_loss: 0.0487 - val_accuracy: 0.9749 - lr: 4.0000e-04\n",
            "Epoch 27/50\n",
            "17/17 [==============================] - 7s 411ms/step - loss: 0.0438 - accuracy: 0.9898 - val_loss: 0.0709 - val_accuracy: 0.9861 - lr: 4.0000e-04\n",
            "Epoch 28/50\n",
            "17/17 [==============================] - 7s 414ms/step - loss: 0.0555 - accuracy: 0.9860 - val_loss: 0.0706 - val_accuracy: 0.9861 - lr: 4.0000e-04\n",
            "Epoch 29/50\n",
            "17/17 [==============================] - 7s 412ms/step - loss: 0.0390 - accuracy: 0.9926 - val_loss: 0.0492 - val_accuracy: 0.9805 - lr: 4.0000e-04\n",
            "Epoch 30/50\n",
            "17/17 [==============================] - 7s 414ms/step - loss: 0.0377 - accuracy: 0.9916 - val_loss: 0.0618 - val_accuracy: 0.9805 - lr: 4.0000e-04\n",
            "Epoch 31/50\n",
            "17/17 [==============================] - 8s 477ms/step - loss: 0.0488 - accuracy: 0.9833 - val_loss: 0.0803 - val_accuracy: 0.9833 - lr: 4.0000e-04\n",
            "Epoch 32/50\n",
            "17/17 [==============================] - 8s 441ms/step - loss: 0.0463 - accuracy: 0.9814 - val_loss: 0.0401 - val_accuracy: 0.9805 - lr: 4.0000e-04\n",
            "Epoch 33/50\n",
            "17/17 [==============================] - 7s 420ms/step - loss: 0.0403 - accuracy: 0.9860 - val_loss: 0.0567 - val_accuracy: 0.9861 - lr: 1.6000e-04\n",
            "Epoch 34/50\n",
            "17/17 [==============================] - 7s 418ms/step - loss: 0.0400 - accuracy: 0.9870 - val_loss: 0.0505 - val_accuracy: 0.9805 - lr: 1.6000e-04\n",
            "Epoch 35/50\n",
            "17/17 [==============================] - 7s 414ms/step - loss: 0.0354 - accuracy: 0.9879 - val_loss: 0.0521 - val_accuracy: 0.9805 - lr: 6.4000e-05\n",
            "Epoch 36/50\n",
            "17/17 [==============================] - 7s 414ms/step - loss: 0.0378 - accuracy: 0.9870 - val_loss: 0.0547 - val_accuracy: 0.9833 - lr: 6.4000e-05\n",
            "Epoch 37/50\n",
            "17/17 [==============================] - 7s 421ms/step - loss: 0.0328 - accuracy: 0.9898 - val_loss: 0.0544 - val_accuracy: 0.9833 - lr: 6.4000e-05\n",
            "Epoch 38/50\n",
            "17/17 [==============================] - 7s 420ms/step - loss: 0.0361 - accuracy: 0.9888 - val_loss: 0.0554 - val_accuracy: 0.9833 - lr: 6.4000e-05\n",
            "Epoch 39/50\n",
            "17/17 [==============================] - 7s 416ms/step - loss: 0.0332 - accuracy: 0.9926 - val_loss: 0.0588 - val_accuracy: 0.9833 - lr: 6.4000e-05\n",
            "Epoch 40/50\n",
            "17/17 [==============================] - 7s 420ms/step - loss: 0.0344 - accuracy: 0.9888 - val_loss: 0.0573 - val_accuracy: 0.9833 - lr: 2.5600e-05\n",
            "Epoch 41/50\n",
            "17/17 [==============================] - 7s 416ms/step - loss: 0.0314 - accuracy: 0.9898 - val_loss: 0.0552 - val_accuracy: 0.9833 - lr: 2.5600e-05\n",
            "Epoch 42/50\n",
            "17/17 [==============================] - 7s 416ms/step - loss: 0.0291 - accuracy: 0.9898 - val_loss: 0.0543 - val_accuracy: 0.9833 - lr: 2.5600e-05\n",
            "Epoch 43/50\n",
            "17/17 [==============================] - 9s 543ms/step - loss: 0.0404 - accuracy: 0.9898 - val_loss: 0.0559 - val_accuracy: 0.9833 - lr: 2.5600e-05\n",
            "Epoch 44/50\n",
            "17/17 [==============================] - 7s 419ms/step - loss: 0.0339 - accuracy: 0.9926 - val_loss: 0.0569 - val_accuracy: 0.9833 - lr: 2.5600e-05\n",
            "Epoch 45/50\n",
            "17/17 [==============================] - 7s 419ms/step - loss: 0.0341 - accuracy: 0.9907 - val_loss: 0.0570 - val_accuracy: 0.9833 - lr: 1.0240e-05\n",
            "Epoch 46/50\n",
            "17/17 [==============================] - 7s 414ms/step - loss: 0.0320 - accuracy: 0.9916 - val_loss: 0.0570 - val_accuracy: 0.9833 - lr: 1.0240e-05\n",
            "Epoch 47/50\n",
            "17/17 [==============================] - 7s 417ms/step - loss: 0.0323 - accuracy: 0.9935 - val_loss: 0.0569 - val_accuracy: 0.9833 - lr: 4.0960e-06\n",
            "Epoch 48/50\n",
            "17/17 [==============================] - 7s 418ms/step - loss: 0.0354 - accuracy: 0.9860 - val_loss: 0.0566 - val_accuracy: 0.9833 - lr: 4.0960e-06\n",
            "Epoch 49/50\n",
            "17/17 [==============================] - 7s 416ms/step - loss: 0.0347 - accuracy: 0.9888 - val_loss: 0.0566 - val_accuracy: 0.9833 - lr: 1.6384e-06\n",
            "Epoch 50/50\n",
            "17/17 [==============================] - 7s 414ms/step - loss: 0.0290 - accuracy: 0.9935 - val_loss: 0.0565 - val_accuracy: 0.9833 - lr: 1.6384e-06\n"
          ]
        }
      ],
      "source": [
        "rlrp = ReduceLROnPlateau(monitor='loss', factor=0.4, verbose=0, patience=2, min_lr=0.0000001)\n",
        "history=model.fit(x_train, y_train, batch_size=64, epochs=50, validation_data=(x_test, y_test), callbacks=[rlrp])"
      ]
    },
    {
      "cell_type": "code",
      "execution_count": 18,
      "metadata": {
        "id": "81GTVnU2oSUo",
        "colab": {
          "base_uri": "https://localhost:8080/",
          "height": 281
        },
        "outputId": "2548d3df-127d-4c85-bcde-d7aa25365c91"
      },
      "outputs": [
        {
          "output_type": "display_data",
          "data": {
            "text/plain": [
              "<Figure size 432x288 with 1 Axes>"
            ],
            "image/png": "[encoded data removed]"
          },
          "metadata": {
            "needs_background": "light"
          }
        }
      ],
      "source": [
        "pd.DataFrame(history.history)[['accuracy','val_accuracy']].plot()\n",
        "plt.title(\"Accuracy\")\n",
        "plt.show()\n",
        "\n"
      ]
    },
    {
      "cell_type": "code",
      "execution_count": 19,
      "metadata": {
        "id": "pZvoSXBUoStj",
        "colab": {
          "base_uri": "https://localhost:8080/",
          "height": 281
        },
        "outputId": "a6da87ef-2919-4917-c9b7-f7d7bf5f3d7a"
      },
      "outputs": [
        {
          "output_type": "display_data",
          "data": {
            "text/plain": [
              "<Figure size 432x288 with 1 Axes>"
            ],
            "image/png": "[encoded data removed]"
          },
          "metadata": {
            "needs_background": "light"
          }
        }
      ],
      "source": [
        "pd.DataFrame(history.history)[['loss','val_loss']].plot()\n",
        "plt.title(\"Loss\")\n",
        "plt.show()"
      ]
    },
    {
      "cell_type": "code",
      "execution_count": 20,
      "metadata": {
        "id": "mNgdXh90v75B",
        "colab": {
          "base_uri": "https://localhost:8080/"
        },
        "outputId": "48ad9369-4199-4b1e-a288-58658ffea605"
      },
      "outputs": [
        {
          "output_type": "stream",
          "name": "stdout",
          "text": [
            "Training Accuracy:\u001b[01m 99.91%\u001b[0m\n",
            "Testing Accuracy:\u001b[01m 98.33%\u001b[0m\n"
          ]
        }
      ],
      "source": [
        "#Evaluating The Model\n",
        "# Evaluating The Model\n",
        "score = model.evaluate(x_train, y_train, verbose=0)\n",
        "print(\"Training Accuracy:\\033[01m {0:.2%}\\033[0m\".format(score[1]))\n",
        "score = model.evaluate(x_test, y_test, verbose=0)\n",
        "print(\"Testing Accuracy:\\033[01m {0:.2%}\\033[0m\".format(score[1]))"
      ]
    },
    {
      "cell_type": "code",
      "execution_count": 21,
      "metadata": {
        "id": "tlljZFfSwDnF",
        "colab": {
          "base_uri": "https://localhost:8080/"
        },
        "outputId": "5bc32757-884e-4f3f-d56d-3c301fd4ef4b"
      },
      "outputs": [
        {
          "output_type": "stream",
          "name": "stdout",
          "text": [
            "12/12 [==============================] - 1s 43ms/step\n"
          ]
        }
      ],
      "source": [
        "# predicting on test data.\n",
        "pred_test = model.predict(x_test)\n",
        "y_pred = encoder.inverse_transform(pred_test)\n",
        "\n",
        "y_test = encoder.inverse_transform(y_test)"
      ]
    },
    {
      "cell_type": "code",
      "execution_count": 22,
      "metadata": {
        "id": "w4nTZcVJv9uQ",
        "colab": {
          "base_uri": "https://localhost:8080/"
        },
        "outputId": "5bc8b2dd-b4ea-4a6a-c97c-9ef0f3aa5739"
      },
      "outputs": [
        {
          "output_type": "stream",
          "name": "stdout",
          "text": [
            "                 precision    recall  f1-score   support\n",
            "\n",
            "trimmed_manusia       0.98      0.98      0.98       180\n",
            "    trimmed_tts       0.98      0.98      0.98       179\n",
            "\n",
            "       accuracy                           0.98       359\n",
            "      macro avg       0.98      0.98      0.98       359\n",
            "   weighted avg       0.98      0.98      0.98       359\n",
            "\n"
          ]
        }
      ],
      "source": [
        "print(classification_report(y_test, y_pred))"
      ]
    },
    {
      "cell_type": "code",
      "execution_count": 23,
      "metadata": {
        "id": "frn6-MtSwcV9",
        "colab": {
          "base_uri": "https://localhost:8080/",
          "height": 631
        },
        "outputId": "98469cb7-7ed8-45cb-9ea2-6e0a42f162b8"
      },
      "outputs": [
        {
          "output_type": "display_data",
          "data": {
            "text/plain": [
              "<Figure size 864x720 with 2 Axes>"
            ],
            "image/png": "[encoded data removed]"
          },
          "metadata": {
            "needs_background": "light"
          }
        }
      ],
      "source": [
        "cm = confusion_matrix(y_test, y_pred)\n",
        "plt.figure(figsize = (12, 10))\n",
        "cm = pd.DataFrame(cm , index = [i for i in encoder.categories_] , columns = [i for i in encoder.categories_])\n",
        "sns.heatmap(cm, linecolor='white', cmap='Blues', linewidth=1, annot=True, fmt='')\n",
        "plt.title('Confusion Matrix', size=20)\n",
        "plt.xlabel('Predicted Labels', size=14)\n",
        "plt.ylabel('Actual Labels', size=14)\n",
        "plt.show()"
      ]
    },
    {
      "cell_type": "code",
      "source": [
        "from tensorflow.keras.models import Sequential, save_model, load_model\n"
      ],
      "metadata": {
        "id": "MgYzPasiiIDV"
      },
      "execution_count": 24,
      "outputs": []
    },
    {
      "cell_type": "code",
      "source": [
        "# File path\n",
        "filepath = '/content/drive/MyDrive/Datmin UAS/Model/speechrecognition.h5'\n",
        "\n",
        "# Load the model\n",
        "model = load_model(filepath, compile = True)"
      ],
      "metadata": {
        "id": "RcW5m1VdORWR"
      },
      "execution_count": 25,
      "outputs": []
    },
    {
      "cell_type": "code",
      "source": [
        "audio = get_features(\"/content/drive/MyDrive/Datmin UAS/trimmed_manusia/akl_11.wav\")"
      ],
      "metadata": {
        "id": "Z8eWbmnfie4R"
      },
      "execution_count": 26,
      "outputs": []
    },
    {
      "cell_type": "code",
      "source": [
        "audio"
      ],
      "metadata": {
        "colab": {
          "base_uri": "https://localhost:8080/"
        },
        "id": "gBUhsnjXiwSM",
        "outputId": "909a6879-a50b-41fd-bd75-96ff325b6480"
      },
      "execution_count": 27,
      "outputs": [
        {
          "output_type": "execute_result",
          "data": {
            "text/plain": [
              "array([[ 1.22766565e-01,  4.15635824e-01,  2.25558817e-01,\n",
              "         1.88087776e-01,  2.14373484e-01,  2.34978765e-01,\n",
              "         3.90589029e-01,  5.12586832e-01,  2.60731816e-01,\n",
              "         2.29039639e-01,  3.52980465e-01,  5.14641285e-01,\n",
              "         6.68370426e-01, -2.55389282e+02,  4.14296417e+01,\n",
              "        -5.61948509e+01, -5.09235420e+01, -3.52724342e+01,\n",
              "        -1.27086000e+01,  9.49916935e+00, -1.61059761e+01,\n",
              "        -1.52609816e+01, -2.59267759e+00, -1.84330978e+01,\n",
              "        -9.41287136e+00, -7.58320904e+00,  1.81725082e+01,\n",
              "         1.87873764e+01,  4.18638000e+01,  1.83412323e+01,\n",
              "         6.36037052e-01, -2.05704460e+01,  1.56277418e+00,\n",
              "         2.43159190e-01,  3.06132045e-02,  7.61152897e-03,\n",
              "         2.34157941e-03,  1.55013578e-03,  1.79780368e-03,\n",
              "         1.99249340e-03,  1.26953889e-03,  6.32191892e-04,\n",
              "         7.11331784e-04,  1.13090628e-03,  4.06445237e-03,\n",
              "         1.06526194e-02,  6.11702763e-02,  3.80280048e-01,\n",
              "         3.14990544e+00,  6.55739822e+01,  1.41516235e+02,\n",
              "         1.25955238e+02,  1.07250984e+02,  3.83470879e+01,\n",
              "         3.14267087e+00,  6.38873756e-01,  3.29937100e-01,\n",
              "         1.98563665e-01,  1.06617510e-01,  6.21746480e-02,\n",
              "         5.39725162e-02,  9.72934365e-02,  1.86365664e-01,\n",
              "         4.13915694e-01,  1.15104842e+00,  2.94774485e+00,\n",
              "         3.90933647e+01,  1.02828712e+02,  3.13835327e+02,\n",
              "         2.34450027e+02,  2.30967560e+02,  1.90813797e+02,\n",
              "         6.43828049e+01,  7.99873257e+00,  2.72650909e+00,\n",
              "         2.27485633e+00,  1.28539300e+00,  2.89661574e+00,\n",
              "         3.23513579e+00,  3.28474927e+00,  4.79548025e+00,\n",
              "         1.13807812e+01,  4.58015671e+01,  1.71124771e+02,\n",
              "         1.52969376e+02,  1.85775162e+02,  1.86967758e+02,\n",
              "         1.63826389e+01,  1.13640511e+00,  4.90852118e-01,\n",
              "         8.56179744e-02,  7.26010576e-02,  1.54208764e-01,\n",
              "         4.67230439e-01,  4.71784163e+00,  6.91816807e+00,\n",
              "         1.62943249e+01,  1.29044485e+01,  2.18630266e+00,\n",
              "         9.39371943e-01,  2.75038600e-01,  4.65138666e-02,\n",
              "         1.73844516e-01,  4.54286724e-01,  7.75793612e-01,\n",
              "         9.11467791e-01,  2.19953746e-01,  4.87763695e-02,\n",
              "         7.09937140e-02,  2.34128967e-01,  3.30464423e-01,\n",
              "         4.63274330e-01,  5.25764346e-01,  3.61313134e-01,\n",
              "         2.60686457e-01,  1.26084459e+00,  9.81444955e-01,\n",
              "         1.93313241e+00,  6.95042312e-01,  6.91573322e-02,\n",
              "         1.00012980e-01,  1.57456234e-01,  3.06897849e-01,\n",
              "         1.44730866e-01,  1.13435373e-01,  7.22518787e-02,\n",
              "         1.85074523e-01,  2.44478881e-01,  2.57300407e-01,\n",
              "         6.25468418e-02,  4.04806286e-02,  6.29625842e-02,\n",
              "         1.84561446e-01,  6.83820844e-02,  2.52759568e-02,\n",
              "         2.26623621e-02,  1.10674081e-02,  1.39423031e-02,\n",
              "         1.38673829e-02,  6.32982049e-03,  6.35186676e-03,\n",
              "         4.12144978e-03,  2.40660016e-03,  2.90532107e-03,\n",
              "         5.90206124e-03,  7.13891350e-03,  9.93355270e-03,\n",
              "         8.69273022e-03,  1.21913534e-02,  1.24165602e-02,\n",
              "         2.02215314e-02,  1.59179345e-02,  1.85927972e-02,\n",
              "         3.64009291e-02,  3.88182625e-02,  3.44823413e-02,\n",
              "         2.00142432e-02,  1.65353622e-02,  1.17587382e-02,\n",
              "         2.32789642e-03,  1.06053129e-04,  1.05127829e-05],\n",
              "       [ 2.31987847e-01,  3.95641343e-01,  3.72130737e-01,\n",
              "         3.81646512e-01,  4.02748068e-01,  5.07785015e-01,\n",
              "         5.80838236e-01,  4.20413223e-01,  3.64260961e-01,\n",
              "         4.54029573e-01,  5.91111790e-01,  7.40893601e-01,\n",
              "         5.74427084e-01, -1.22918708e+02,  2.01747142e+01,\n",
              "        -2.12384244e+01, -2.01394170e+01, -1.28502188e+01,\n",
              "        -2.59810252e+00,  5.15054288e+00, -4.76490511e+00,\n",
              "        -5.29285410e+00, -2.78850619e+00, -8.26736379e+00,\n",
              "        -8.82335871e+00, -4.27915646e+00,  7.73081453e+00,\n",
              "         1.56837420e+01,  2.29134661e+01,  1.12758826e+01,\n",
              "        -6.81886147e+00, -1.49033549e+01, -4.00798744e+00,\n",
              "         2.47668592e-01,  5.88169302e-02,  3.89460323e-02,\n",
              "         3.35712216e-02,  3.30439370e-02,  4.06901138e-02,\n",
              "         3.36226212e-02,  3.03779975e-02,  2.84441167e-02,\n",
              "         3.03764317e-02,  3.27978239e-02,  3.32485372e-02,\n",
              "         4.19117254e-02,  1.01161284e-01,  4.21207107e-01,\n",
              "         3.23594849e+00,  6.55525935e+01,  1.41229297e+02,\n",
              "         1.25795786e+02,  1.07526754e+02,  3.83946598e+01,\n",
              "         3.16632469e+00,  6.64942518e-01,  3.65207034e-01,\n",
              "         2.38541091e-01,  1.45659429e-01,  9.68105165e-02,\n",
              "         8.52736211e-02,  1.24826811e-01,  1.98474173e-01,\n",
              "         4.42501946e-01,  1.13831394e+00,  2.96921191e+00,\n",
              "         3.91289804e+01,  1.02413685e+02,  3.13707948e+02,\n",
              "         2.34034867e+02,  2.30706947e+02,  1.90627695e+02,\n",
              "         6.43637868e+01,  8.03265364e+00,  2.78143627e+00,\n",
              "         2.32271546e+00,  1.27952439e+00,  2.91961266e+00,\n",
              "         3.20523777e+00,  3.32660011e+00,  4.86108278e+00,\n",
              "         1.14749817e+01,  4.58970269e+01,  1.71005053e+02,\n",
              "         1.53231589e+02,  1.85747939e+02,  1.87025693e+02,\n",
              "         1.64235077e+01,  1.15524796e+00,  5.28289901e-01,\n",
              "         1.20377513e-01,  1.05118449e-01,  1.82406290e-01,\n",
              "         4.96697196e-01,  4.78589083e+00,  6.99121406e+00,\n",
              "         1.61596753e+01,  1.29041667e+01,  2.26954472e+00,\n",
              "         9.48636624e-01,  3.03128938e-01,  8.70492598e-02,\n",
              "         2.08921422e-01,  4.89248433e-01,  8.22980282e-01,\n",
              "         9.36074527e-01,  2.58630486e-01,  7.64380534e-02,\n",
              "         9.84053386e-02,  2.60714956e-01,  3.70306680e-01,\n",
              "         4.99051029e-01,  5.54059165e-01,  3.75764245e-01,\n",
              "         2.97598097e-01,  1.26961494e+00,  1.01017623e+00,\n",
              "         1.99362518e+00,  7.18073390e-01,  1.01077061e-01,\n",
              "         1.33745366e-01,  1.90680659e-01,  3.30866899e-01,\n",
              "         1.64744364e-01,  1.39497679e-01,  9.67512173e-02,\n",
              "         2.06095469e-01,  2.65397266e-01,  2.84784949e-01,\n",
              "         9.03017890e-02,  6.87306981e-02,  9.37207584e-02,\n",
              "         2.19255571e-01,  9.85141115e-02,  5.88828665e-02,\n",
              "         5.64028827e-02,  4.24165159e-02,  4.39183154e-02,\n",
              "         4.61805399e-02,  3.47580291e-02,  3.61296478e-02,\n",
              "         3.54594571e-02,  3.20954195e-02,  3.07578683e-02,\n",
              "         3.42305718e-02,  3.59517784e-02,  3.93227849e-02,\n",
              "         3.86757649e-02,  4.15857288e-02,  3.99723727e-02,\n",
              "         5.14369370e-02,  4.42916556e-02,  4.85221873e-02,\n",
              "         6.98719286e-02,  6.79148536e-02,  6.30256205e-02,\n",
              "         5.17907357e-02,  4.90182218e-02,  4.16458869e-02,\n",
              "         3.04216487e-02,  3.11023199e-02,  3.03845494e-02],\n",
              "       [ 1.22551360e-01,  3.81839663e-01,  2.16379970e-01,\n",
              "         1.75989255e-01,  1.89739451e-01,  2.26402149e-01,\n",
              "         3.91345710e-01,  4.99145329e-01,  2.38032192e-01,\n",
              "         2.22613722e-01,  3.68089676e-01,  5.37394464e-01,\n",
              "         6.54386699e-01, -3.09778717e+02,  3.82860756e+01,\n",
              "        -6.46768646e+01, -5.09563217e+01, -3.41899033e+01,\n",
              "        -7.63044882e+00,  9.75983047e+00, -2.02203922e+01,\n",
              "        -1.40051069e+01, -5.77839613e+00, -1.93170967e+01,\n",
              "        -7.67136240e+00,  1.05693340e+00,  2.66337204e+01,\n",
              "         2.75906086e+01,  3.95838089e+01,  4.25334644e+00,\n",
              "        -1.07187176e+01, -1.64172268e+01,  1.15004349e+01,\n",
              "         1.32390589e-01,  9.75142978e-03,  2.33584177e-03,\n",
              "         5.62407193e-04,  2.61578243e-04,  5.19690802e-04,\n",
              "         3.48317000e-04,  2.74964957e-04,  1.26254236e-04,\n",
              "         2.74617079e-04,  3.06351256e-04,  5.88702911e-04,\n",
              "         1.09798089e-03,  3.35436920e-03,  2.68512666e-02,\n",
              "         3.73810202e-01,  3.28753066e+00,  3.21394234e+01,\n",
              "         3.22490311e+01,  3.03671341e+01,  4.50023651e+01,\n",
              "         5.87166119e+00,  4.40662295e-01,  9.80735943e-02,\n",
              "         5.33688478e-02,  5.42629585e-02,  4.13812436e-02,\n",
              "         2.05623526e-02,  1.67053919e-02,  2.23832522e-02,\n",
              "         5.69801033e-02,  9.52926651e-02,  1.70758277e-01,\n",
              "         5.52673936e-01,  1.32536626e+00,  1.49106121e+01,\n",
              "         5.80468864e+01,  1.09794533e+02,  5.32575684e+01,\n",
              "         4.45743942e+01,  2.30894527e+01,  5.64724970e+00,\n",
              "         1.12095237e+00,  7.05553174e-01,  3.49357426e-01,\n",
              "         2.65038908e-01,  6.18289113e-01,  5.57472467e-01,\n",
              "         4.87750590e-01,  1.09097385e+00,  5.01376104e+00,\n",
              "         2.37680149e+01,  6.19486198e+01,  3.00726471e+01,\n",
              "         1.05283974e+02,  3.20501785e+01,  4.76102084e-01,\n",
              "         1.43598482e-01,  5.06261177e-02,  1.40031269e-02,\n",
              "         2.11923290e-02,  5.19685894e-02,  2.64461398e-01,\n",
              "         1.04122090e+00,  1.96422660e+00,  5.41195202e+00,\n",
              "         1.04692400e+00,  1.38382986e-01,  1.27634346e-01,\n",
              "         1.66185498e-02,  1.15177389e-02,  6.91033900e-02,\n",
              "         1.49410546e-01,  2.31369361e-01,  1.00780964e-01,\n",
              "         2.48552710e-02,  6.87839417e-03,  2.07701605e-02,\n",
              "         8.02200586e-02,  7.88161159e-02,  9.95384380e-02,\n",
              "         8.42510313e-02,  6.01832196e-02,  1.00749530e-01,\n",
              "         1.53798237e-01,  2.94646800e-01,  2.80271679e-01,\n",
              "         3.97037640e-02,  1.35037098e-02,  3.16127986e-02,\n",
              "         4.21337448e-02,  4.10527177e-02,  2.12951060e-02,\n",
              "         2.40619350e-02,  2.18443461e-02,  4.59131487e-02,\n",
              "         3.88762690e-02,  4.01570834e-02,  5.92817180e-03,\n",
              "         1.00816917e-02,  2.46536452e-02,  2.45636776e-02,\n",
              "         5.74145047e-03,  5.41532738e-03,  3.79621331e-03,\n",
              "         2.37704394e-03,  4.25899634e-03,  2.06132559e-03,\n",
              "         1.08343153e-03,  1.22964429e-03,  6.12851989e-04,\n",
              "         5.51477482e-04,  9.84630198e-04,  1.52560114e-03,\n",
              "         2.02451763e-03,  2.40032910e-03,  2.40820507e-03,\n",
              "         2.94579309e-03,  3.93407280e-03,  5.33294631e-03,\n",
              "         3.01277731e-03,  6.98925694e-03,  8.00711662e-03,\n",
              "         9.07639228e-03,  5.16180368e-03,  2.38459464e-03,\n",
              "         5.21326496e-04,  5.80302803e-05,  7.00938790e-06]])"
            ]
          },
          "metadata": {},
          "execution_count": 27
        }
      ]
    },
    {
      "cell_type": "code",
      "source": [
        "predictions = model.predict(audio)\n",
        "print(predictions)"
      ],
      "metadata": {
        "colab": {
          "base_uri": "https://localhost:8080/"
        },
        "id": "qv9kkjwLiy7v",
        "outputId": "34fa0352-0c63-4da7-85ea-6d22cb955e1b"
      },
      "execution_count": 28,
      "outputs": [
        {
          "output_type": "stream",
          "name": "stdout",
          "text": [
            "1/1 [==============================] - 0s 174ms/step\n",
            "[[1.0000000e+00 0.0000000e+00]\n",
            " [1.0000000e+00 0.0000000e+00]\n",
            " [1.0000000e+00 7.0064935e-32]]\n"
          ]
        }
      ]
    }
  ],
  "metadata": {
    "accelerator": "GPU",
    "colab": {
      "provenance": []
    },
    "gpuClass": "standard",
    "kernelspec": {
      "display_name": "Python 3",
      "name": "python3"
    },
    "language_info": {
      "name": "python"
    }
  },
  "nbformat": 4,
  "nbformat_minor": 0
}